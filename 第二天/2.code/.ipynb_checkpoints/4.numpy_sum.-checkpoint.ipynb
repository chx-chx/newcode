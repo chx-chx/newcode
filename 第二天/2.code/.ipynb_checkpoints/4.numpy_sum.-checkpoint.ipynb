{
 "cells": [
  {
   "cell_type": "code",
   "execution_count": 1,
   "metadata": {},
   "outputs": [],
   "source": [
    "import numpy as np"
   ]
  },
  {
   "cell_type": "markdown",
   "metadata": {},
   "source": [
    "# 逻辑运算"
   ]
  },
  {
   "cell_type": "code",
   "execution_count": 3,
   "metadata": {},
   "outputs": [],
   "source": [
    "stock_change = np.random.normal(0, 1, (8, 10))"
   ]
  },
  {
   "cell_type": "code",
   "execution_count": 4,
   "metadata": {},
   "outputs": [
    {
     "data": {
      "text/plain": [
       "array([[-0.39683594, -0.93282904, -1.02920753, -0.29748756, -0.3680078 ,\n",
       "         0.98140878, -0.81723545,  0.56047523, -0.80833788, -0.09010658],\n",
       "       [ 0.22499774,  0.45662551,  0.35473895, -1.03158314, -0.41552147,\n",
       "        -1.11736653, -0.22939103,  0.51764552,  0.24643008,  1.17599063],\n",
       "       [ 1.53088066, -2.49918097, -0.44873299, -0.47364179,  1.21705411,\n",
       "         0.89417842, -0.53344331,  2.46632174,  1.45489068,  1.17761271],\n",
       "       [-0.604213  ,  0.73868167,  0.76286223, -0.14759815, -0.21141578,\n",
       "        -2.26995168,  0.23460968, -0.99904004,  0.17889611,  0.78854751],\n",
       "       [-1.26828728, -0.51387828,  2.65921615,  1.06558291,  2.64857772,\n",
       "        -0.28108191, -1.9654477 ,  0.60141932, -0.48091659, -1.65436784],\n",
       "       [-0.47906913,  0.4254376 ,  0.69262436, -0.10114936,  2.04621752,\n",
       "         1.32452259, -0.17739464, -2.76271823, -0.74636209, -0.48365622],\n",
       "       [ 0.23643417,  1.52592047,  0.17615198, -0.84678785, -0.83293422,\n",
       "        -0.88591975,  1.81768892,  0.11440743,  0.96998473,  1.61846178],\n",
       "       [-0.14258791,  0.63625096, -1.85671356,  1.35674484, -0.58233949,\n",
       "         2.43803372, -0.91318498,  0.68164745, -0.14039651,  0.83707607]])"
      ]
     },
     "execution_count": 4,
     "metadata": {},
     "output_type": "execute_result"
    }
   ],
   "source": [
    "stock_change"
   ]
  },
  {
   "cell_type": "code",
   "execution_count": 5,
   "metadata": {},
   "outputs": [],
   "source": [
    "stock_c = stock_change[0:5, 0:5]"
   ]
  },
  {
   "cell_type": "code",
   "execution_count": 6,
   "metadata": {},
   "outputs": [
    {
     "data": {
      "text/plain": [
       "array([[-0.39683594, -0.93282904, -1.02920753, -0.29748756, -0.3680078 ],\n",
       "       [ 0.22499774,  0.45662551,  0.35473895, -1.03158314, -0.41552147],\n",
       "       [ 1.53088066, -2.49918097, -0.44873299, -0.47364179,  1.21705411],\n",
       "       [-0.604213  ,  0.73868167,  0.76286223, -0.14759815, -0.21141578],\n",
       "       [-1.26828728, -0.51387828,  2.65921615,  1.06558291,  2.64857772]])"
      ]
     },
     "execution_count": 6,
     "metadata": {},
     "output_type": "execute_result"
    }
   ],
   "source": [
    "stock_c"
   ]
  },
  {
   "cell_type": "code",
   "execution_count": 7,
   "metadata": {},
   "outputs": [
    {
     "data": {
      "text/plain": [
       "array([[False, False, False, False, False],\n",
       "       [False, False, False, False, False],\n",
       "       [ True, False, False, False,  True],\n",
       "       [False, False, False, False, False],\n",
       "       [False, False,  True,  True,  True]])"
      ]
     },
     "execution_count": 7,
     "metadata": {},
     "output_type": "execute_result"
    }
   ],
   "source": [
    "stock_c > 1"
   ]
  },
  {
   "cell_type": "code",
   "execution_count": 8,
   "metadata": {},
   "outputs": [],
   "source": [
    "stock_c[stock_c >1] = 2"
   ]
  },
  {
   "cell_type": "code",
   "execution_count": 9,
   "metadata": {},
   "outputs": [
    {
     "data": {
      "text/plain": [
       "array([[-0.39683594, -0.93282904, -1.02920753, -0.29748756, -0.3680078 ],\n",
       "       [ 0.22499774,  0.45662551,  0.35473895, -1.03158314, -0.41552147],\n",
       "       [ 2.        , -2.49918097, -0.44873299, -0.47364179,  2.        ],\n",
       "       [-0.604213  ,  0.73868167,  0.76286223, -0.14759815, -0.21141578],\n",
       "       [-1.26828728, -0.51387828,  2.        ,  2.        ,  2.        ]])"
      ]
     },
     "execution_count": 9,
     "metadata": {},
     "output_type": "execute_result"
    }
   ],
   "source": [
    "stock_c"
   ]
  },
  {
   "cell_type": "code",
   "execution_count": 10,
   "metadata": {},
   "outputs": [],
   "source": [
    "test_a = [1,2,3]"
   ]
  },
  {
   "cell_type": "code",
   "execution_count": 12,
   "metadata": {},
   "outputs": [],
   "source": [
    "# test_a > 2"
   ]
  },
  {
   "cell_type": "code",
   "execution_count": 14,
   "metadata": {},
   "outputs": [],
   "source": [
    "stock_d = stock_change[0:2, 0:5]"
   ]
  },
  {
   "cell_type": "code",
   "execution_count": 15,
   "metadata": {},
   "outputs": [
    {
     "data": {
      "text/plain": [
       "array([[-0.39683594, -0.93282904, -1.02920753, -0.29748756, -0.3680078 ],\n",
       "       [ 0.22499774,  0.45662551,  0.35473895, -1.03158314, -0.41552147]])"
      ]
     },
     "execution_count": 15,
     "metadata": {},
     "output_type": "execute_result"
    }
   ],
   "source": [
    "stock_d"
   ]
  },
  {
   "cell_type": "code",
   "execution_count": 17,
   "metadata": {},
   "outputs": [
    {
     "data": {
      "text/plain": [
       "False"
      ]
     },
     "execution_count": 17,
     "metadata": {},
     "output_type": "execute_result"
    }
   ],
   "source": [
    "np.all(stock_d > 0)"
   ]
  },
  {
   "cell_type": "code",
   "execution_count": 19,
   "metadata": {},
   "outputs": [
    {
     "data": {
      "text/plain": [
       "True"
      ]
     },
     "execution_count": 19,
     "metadata": {},
     "output_type": "execute_result"
    }
   ],
   "source": [
    "np.any(stock_d>0)"
   ]
  },
  {
   "cell_type": "code",
   "execution_count": 20,
   "metadata": {},
   "outputs": [
    {
     "data": {
      "text/plain": [
       "array([[0, 0, 0, 0, 0],\n",
       "       [1, 1, 1, 0, 0]])"
      ]
     },
     "execution_count": 20,
     "metadata": {},
     "output_type": "execute_result"
    }
   ],
   "source": [
    "np.where(stock_d>0, 1, 0)"
   ]
  },
  {
   "cell_type": "code",
   "execution_count": 21,
   "metadata": {},
   "outputs": [
    {
     "data": {
      "text/plain": [
       "array([[1, 0, 0, 1, 1],\n",
       "       [1, 1, 1, 0, 1]])"
      ]
     },
     "execution_count": 21,
     "metadata": {},
     "output_type": "execute_result"
    }
   ],
   "source": [
    "np.where(np.logical_and(stock_d>-0.5, stock_d<0.5), 1, 0)"
   ]
  },
  {
   "cell_type": "code",
   "execution_count": 22,
   "metadata": {},
   "outputs": [
    {
     "data": {
      "text/plain": [
       "array([[0, 0, 2, 0, 0],\n",
       "       [2, 2, 2, 2, 0]])"
      ]
     },
     "execution_count": 22,
     "metadata": {},
     "output_type": "execute_result"
    }
   ],
   "source": [
    "np.where(np.logical_or(stock_d>0, stock_d<-1), 2, 0)"
   ]
  },
  {
   "cell_type": "code",
   "execution_count": 24,
   "metadata": {},
   "outputs": [
    {
     "data": {
      "text/plain": [
       "array([[-0.39683594, -0.93282904, -1.02920753, -0.29748756, -0.3680078 ,\n",
       "         0.98140878, -0.81723545,  0.56047523, -0.80833788, -0.09010658],\n",
       "       [ 0.22499774,  0.45662551,  0.35473895, -1.03158314, -0.41552147,\n",
       "        -1.11736653, -0.22939103,  0.51764552,  0.24643008,  1.17599063],\n",
       "       [ 2.        , -2.49918097, -0.44873299, -0.47364179,  2.        ,\n",
       "         0.89417842, -0.53344331,  2.46632174,  1.45489068,  1.17761271],\n",
       "       [-0.604213  ,  0.73868167,  0.76286223, -0.14759815, -0.21141578,\n",
       "        -2.26995168,  0.23460968, -0.99904004,  0.17889611,  0.78854751],\n",
       "       [-1.26828728, -0.51387828,  2.        ,  2.        ,  2.        ,\n",
       "        -0.28108191, -1.9654477 ,  0.60141932, -0.48091659, -1.65436784],\n",
       "       [-0.47906913,  0.4254376 ,  0.69262436, -0.10114936,  2.04621752,\n",
       "         1.32452259, -0.17739464, -2.76271823, -0.74636209, -0.48365622],\n",
       "       [ 0.23643417,  1.52592047,  0.17615198, -0.84678785, -0.83293422,\n",
       "        -0.88591975,  1.81768892,  0.11440743,  0.96998473,  1.61846178],\n",
       "       [-0.14258791,  0.63625096, -1.85671356,  1.35674484, -0.58233949,\n",
       "         2.43803372, -0.91318498,  0.68164745, -0.14039651,  0.83707607]])"
      ]
     },
     "execution_count": 24,
     "metadata": {},
     "output_type": "execute_result"
    }
   ],
   "source": [
    "stock_change"
   ]
  },
  {
   "cell_type": "code",
   "execution_count": 26,
   "metadata": {},
   "outputs": [
    {
     "data": {
      "text/plain": [
       "array([2.        , 1.52592047, 2.        , 2.        , 2.04621752,\n",
       "       2.43803372, 1.81768892, 2.46632174, 1.45489068, 1.61846178])"
      ]
     },
     "execution_count": 26,
     "metadata": {},
     "output_type": "execute_result"
    }
   ],
   "source": [
    "stock_change.max(axis=0)"
   ]
  },
  {
   "cell_type": "code",
   "execution_count": 28,
   "metadata": {},
   "outputs": [
    {
     "data": {
      "text/plain": [
       "array([[-0.39683594, -0.93282904, -1.02920753, -0.29748756, -0.3680078 ],\n",
       "       [ 0.22499774,  0.45662551,  0.35473895, -1.03158314, -0.41552147],\n",
       "       [ 2.        , -2.49918097, -0.44873299, -0.47364179,  2.        ],\n",
       "       [-0.604213  ,  0.73868167,  0.76286223, -0.14759815, -0.21141578],\n",
       "       [-1.26828728, -0.51387828,  2.        ,  2.        ,  2.        ]])"
      ]
     },
     "execution_count": 28,
     "metadata": {},
     "output_type": "execute_result"
    }
   ],
   "source": [
    "stock_c"
   ]
  },
  {
   "cell_type": "code",
   "execution_count": null,
   "metadata": {},
   "outputs": [],
   "source": []
  }
 ],
 "metadata": {
  "kernelspec": {
   "display_name": "Python 3",
   "language": "python",
   "name": "python3"
  },
  "language_info": {
   "codemirror_mode": {
    "name": "ipython",
    "version": 3
   },
   "file_extension": ".py",
   "mimetype": "text/x-python",
   "name": "python",
   "nbconvert_exporter": "python",
   "pygments_lexer": "ipython3",
   "version": "3.6.5"
  },
  "toc": {
   "base_numbering": 1,
   "nav_menu": {},
   "number_sections": true,
   "sideBar": true,
   "skip_h1_title": false,
   "title_cell": "Table of Contents",
   "title_sidebar": "Contents",
   "toc_cell": false,
   "toc_position": {},
   "toc_section_display": true,
   "toc_window_display": false
  }
 },
 "nbformat": 4,
 "nbformat_minor": 2
}
